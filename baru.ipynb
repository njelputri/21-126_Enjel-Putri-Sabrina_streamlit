{
 "cells": [
  {
   "cell_type": "markdown",
   "metadata": {},
   "source": [
    "## TUGAS KLASIFIKASI DATA PROYEK SAINS DATA"
   ]
  },
  {
   "cell_type": "markdown",
   "metadata": {},
   "source": [
    "Nama  : Enjel Putri Sabrina    \n",
    "NIM   : 210411100126        \n",
    "Kelas : B  "
   ]
  },
  {
   "cell_type": "markdown",
   "metadata": {},
   "source": [
    "## -- BUSSINESS UNDERSTANDING --"
   ]
  },
  {
   "cell_type": "markdown",
   "metadata": {},
   "source": [
    "Identifikasi kasus :\n",
    "\n",
    "\n",
    "Liver merupakan salah satu penyakit kronis yang paling umum di Timur Laut Andhra Pradesh, India. Kematian akibat liver ini terus meningkat, seiring dengan meningkatnya angka konsumsi alkohol, infeksi hepatitis kronis, dan penyakit hati terkait obesitas\n",
    "\n",
    "Tujuan :\n",
    "\n",
    "\n",
    "Membangun model klasifikasi liver sebagai upaya deteksi terhadap penyakit liver dengan menggunakan model Random Forest. Dengan melakukan analisa pada data liver, model ini dapat membangun prediksi yang akurat sehingga memungkinkan tenaga kesehatan untuk mengidentifikasi pasien liver."
   ]
  },
  {
   "cell_type": "markdown",
   "metadata": {},
   "source": [
    "## -- DATA UNDERSTANDING --"
   ]
  },
  {
   "cell_type": "markdown",
   "metadata": {},
   "source": [
    "Tahapan Pada Data Understanding merupakan tahapan dimana kita perlu memahami data yang akan diolah. Adapun hal - hal yang perlu dilakukan nantinya untuk memahami dataset ini, yakni\n",
    "\n",
    "\n",
    "1. Tentang data, mencakup :\n",
    "\n",
    "    * Pengumpulan dataset\n",
    "    * Pengenalan singkat mengenai data yang akan diolah\n",
    "2. Mendeskripsikan data, mencakup :\n",
    "\n",
    "    * analisa tipe data\n",
    "    * deskripsi fitur\n",
    "3. Eksplorasi data, mencakup :\n",
    "\n",
    "    * Visualisasi data\n",
    "4. Identifikasi kualitas data :\n",
    "\n",
    "    * Identifikasi missing value setiap fitur atau kolom\n",
    "    * Identifikasi data duplikat\n",
    "    * Identifikasi outlier (data aneh)\n",
    "    * Identifikasi jumlah data (proporsi data perkelas yang digunakan untuk mengetahui balancing dataset atau keseimbangan data per kelas)"
   ]
  },
  {
   "cell_type": "markdown",
   "metadata": {},
   "source": [
    "### **1. Tentang Data**"
   ]
  },
  {
   "cell_type": "markdown",
   "metadata": {},
   "source": [
    "### - Teknik Pengumpulan Data\n",
    "\n",
    "\n",
    "Dalam proyek ini menggunakan kumpulan data yang tersedia di kaggle yang berupa csv. Fitur-fitur yang ada berupa catatan pasien liver dan pasien non liver yang dikumpulkan dari India dengan jumlah dataset sebanya 583 data.\n"
   ]
  },
  {
   "cell_type": "code",
   "execution_count": 1,
   "metadata": {},
   "outputs": [
    {
     "data": {
      "text/html": [
       "<div>\n",
       "<style scoped>\n",
       "    .dataframe tbody tr th:only-of-type {\n",
       "        vertical-align: middle;\n",
       "    }\n",
       "\n",
       "    .dataframe tbody tr th {\n",
       "        vertical-align: top;\n",
       "    }\n",
       "\n",
       "    .dataframe thead th {\n",
       "        text-align: right;\n",
       "    }\n",
       "</style>\n",
       "<table border=\"1\" class=\"dataframe\">\n",
       "  <thead>\n",
       "    <tr style=\"text-align: right;\">\n",
       "      <th></th>\n",
       "      <th>Selector</th>\n",
       "      <th>Age</th>\n",
       "      <th>Gender</th>\n",
       "      <th>TB</th>\n",
       "      <th>DB</th>\n",
       "      <th>Alkphos</th>\n",
       "      <th>Sgpt</th>\n",
       "      <th>Sgot</th>\n",
       "      <th>TP</th>\n",
       "      <th>ALB</th>\n",
       "      <th>A/G Ratio</th>\n",
       "    </tr>\n",
       "  </thead>\n",
       "  <tbody>\n",
       "    <tr>\n",
       "      <th>0</th>\n",
       "      <td>1</td>\n",
       "      <td>65</td>\n",
       "      <td>Female</td>\n",
       "      <td>0.7</td>\n",
       "      <td>0.1</td>\n",
       "      <td>187.0</td>\n",
       "      <td>16.0</td>\n",
       "      <td>18.0</td>\n",
       "      <td>6.8</td>\n",
       "      <td>3.3</td>\n",
       "      <td>0.9</td>\n",
       "    </tr>\n",
       "    <tr>\n",
       "      <th>1</th>\n",
       "      <td>1</td>\n",
       "      <td>62</td>\n",
       "      <td>Male</td>\n",
       "      <td>10.9</td>\n",
       "      <td>5.5</td>\n",
       "      <td>699.0</td>\n",
       "      <td>64.0</td>\n",
       "      <td>100.0</td>\n",
       "      <td>7.5</td>\n",
       "      <td>3.2</td>\n",
       "      <td>0.7</td>\n",
       "    </tr>\n",
       "    <tr>\n",
       "      <th>2</th>\n",
       "      <td>1</td>\n",
       "      <td>62</td>\n",
       "      <td>Male</td>\n",
       "      <td>7.3</td>\n",
       "      <td>4.1</td>\n",
       "      <td>490.0</td>\n",
       "      <td>60.0</td>\n",
       "      <td>68.0</td>\n",
       "      <td>7.0</td>\n",
       "      <td>3.3</td>\n",
       "      <td>0.9</td>\n",
       "    </tr>\n",
       "    <tr>\n",
       "      <th>3</th>\n",
       "      <td>1</td>\n",
       "      <td>58</td>\n",
       "      <td>Male</td>\n",
       "      <td>1.0</td>\n",
       "      <td>0.4</td>\n",
       "      <td>182.0</td>\n",
       "      <td>14.0</td>\n",
       "      <td>20.0</td>\n",
       "      <td>6.8</td>\n",
       "      <td>3.4</td>\n",
       "      <td>1.0</td>\n",
       "    </tr>\n",
       "    <tr>\n",
       "      <th>4</th>\n",
       "      <td>1</td>\n",
       "      <td>72</td>\n",
       "      <td>Male</td>\n",
       "      <td>3.9</td>\n",
       "      <td>2.0</td>\n",
       "      <td>195.0</td>\n",
       "      <td>27.0</td>\n",
       "      <td>59.0</td>\n",
       "      <td>7.3</td>\n",
       "      <td>2.4</td>\n",
       "      <td>0.4</td>\n",
       "    </tr>\n",
       "  </tbody>\n",
       "</table>\n",
       "</div>"
      ],
      "text/plain": [
       "   Selector  Age  Gender    TB   DB  Alkphos  Sgpt   Sgot   TP  ALB  A/G Ratio\n",
       "0         1   65  Female   0.7  0.1    187.0  16.0   18.0  6.8  3.3        0.9\n",
       "1         1   62    Male  10.9  5.5    699.0  64.0  100.0  7.5  3.2        0.7\n",
       "2         1   62    Male   7.3  4.1    490.0  60.0   68.0  7.0  3.3        0.9\n",
       "3         1   58    Male   1.0  0.4    182.0  14.0   20.0  6.8  3.4        1.0\n",
       "4         1   72    Male   3.9  2.0    195.0  27.0   59.0  7.3  2.4        0.4"
      ]
     },
     "execution_count": 1,
     "metadata": {},
     "output_type": "execute_result"
    }
   ],
   "source": [
    "import pandas as pd\n",
    "\n",
    "data = pd.read_csv('dataset.csv')\n",
    "data.head(5)"
   ]
  },
  {
   "cell_type": "code",
   "execution_count": 2,
   "metadata": {},
   "outputs": [
    {
     "name": "stdout",
     "output_type": "stream",
     "text": [
      "Jumlah data :  583\n",
      "Jumlah kolom :  11\n"
     ]
    }
   ],
   "source": [
    "# rincian dataset (jumlah data dan kolom)\n",
    "\n",
    "print(\"Jumlah data : \", data.shape[0])\n",
    "print(\"Jumlah kolom : \", data.shape[1])"
   ]
  },
  {
   "cell_type": "markdown",
   "metadata": {},
   "source": [
    "Dataset ini sebanyak 583 data dengan rincian pelabelan sebagai berikut ini :\n",
    "\n",
    "- Pasien liver (1) = 416 data\n",
    "- Pasien Nonliver (2) = 167 data\n",
    "*Perbedaan yang signifikan pada jumlah data antar label sehingga perlu diseimbangkan terlebih dahulu*\n",
    "\n",
    "Untuk mendeteksi penyakit liver di India, dapat dilihat dari ciri-ciri sebagai berikut :\n",
    "\n",
    "1. **Age**: Mewakili usia pasien, mengindikasikan faktor demografis yang mungkin relevan dengan kesehatan hati.\n",
    "\n",
    "2. **Gender**: Menunjukkan jenis kelamin pasien, memberikan informasi tentang distribusi penyakit hati antar jenis kelamin.\n",
    "\n",
    "3. **TB (Total Bilirubin)**: Mengukur total bilirubin dalam darah, yang dapat menjadi indikator fungsi dan kesehatan hati. Bilirubin merupakan pigmen kuning yang dihasilkan sebagai hasil pemecahan hemoglobin dari sel darah merah yang tua di hati.\n",
    "\n",
    "4. **DB (Direct Bilirubin)**: Secara khusus mengukur bilirubin langsung atau tidak terkonjugasi, memberikan informasi lebih rinci tentang tingkat bilirubin terkait dengan kesehatan hati.\n",
    "\n",
    "5. **Alkphos (Alkaline Phosphatase)**: Mengukur level alkaline phosphatase, enzim yang dapat terkait dengan kesehatan hati dan tulang. Tingkat yang meningkat dapat menunjukkan masalah hati.\n",
    "\n",
    "6. **SGPT (Alamine Aminotransferase)**: Mengukur level SGPT, sebuah enzim yang dapat menunjukkan kerusakan atau peradangan pada hati. Tingkat SGPT yang tinggi dalam tes darah dapat menjadi indikasi kerusakan hati, seperti hepatitis atau kerusakan hati akibat alkohol atau obat-obatan.\n",
    "\n",
    "7. **SGOT (Aspartate Aminotransferase)**: Mengukur level SGOT, enzim yang terdapat di berbagai jaringan, dengan level yang tinggi mungkin mengindikasikan masalah pada hati atau jantung.\n",
    "\n",
    "8. **TP (Total Protein)**: Menunjukkan total protein dalam darah, yang dapat terkait dengan fungsi hati dan kesehatan secara umum.\n",
    "\n",
    "9. **Alb (Albumin)**: Mengukur tingkat albumin dalam darah, protein penting yang diproduksi oleh hati, dan dapat menjadi indikator fungsi hati. Penurunan kadar albumin dalam darah dapat terjadi pada pasien dengan penyakit hati yang merusak kemampuan hati untuk memproduksi protein ini.\n",
    "\n",
    "10. **A/G Ratio (Rasio Albumin/Globulin)**: Mewakili rasio albumin terhadap globulin dalam darah, memberikan wawasan tentang fungsi hati dan ginjal.\n",
    "\n",
    "11. **Selector**: kolom yang digunakan untuk pelabelan diagnosa liver dan non liver\n"
   ]
  },
  {
   "cell_type": "markdown",
   "metadata": {},
   "source": [
    "### **2. Mendeskripsikan Data**"
   ]
  },
  {
   "cell_type": "code",
   "execution_count": 3,
   "metadata": {},
   "outputs": [
    {
     "data": {
      "text/plain": [
       "Index(['Selector', 'Age', 'Gender', 'TB', 'DB', 'Alkphos', 'Sgpt', 'Sgot',\n",
       "       'TP', 'ALB', 'A/G Ratio'],\n",
       "      dtype='object')"
      ]
     },
     "execution_count": 3,
     "metadata": {},
     "output_type": "execute_result"
    }
   ],
   "source": [
    "data.columns"
   ]
  },
  {
   "cell_type": "markdown",
   "metadata": {},
   "source": [
    "### - Analisa Tipe Data"
   ]
  },
  {
   "cell_type": "markdown",
   "metadata": {},
   "source": [
    "Dalam analisa data ini, terdapat tipe data yang ditemukan yaitu tipe data nominal."
   ]
  },
  {
   "cell_type": "markdown",
   "metadata": {},
   "source": [
    "- Tipe nominal   \n",
    "\n",
    "    - memiliki value 1 yang melambangkan ya dan 0 yang melambangkan tidak.\n",
    "        > Pada data ini mencakup fitur *'Selector'* \n",
    "    - memiliki value perempuan dan laki laki.\n",
    "        > yakni pada fitur *'Gender'*\n",
    "    - mencakup tipe data numeric.\n",
    "        > yakni pada fitur *'Age', 'TB', 'DB', 'Alkphos', 'SGPT', 'SGOT', 'TP', 'ALB', 'A/G Ratio'*"
   ]
  },
  {
   "cell_type": "markdown",
   "metadata": {},
   "source": [
    "### - Deskripsi Fitur"
   ]
  },
  {
   "cell_type": "markdown",
   "metadata": {},
   "source": [
    "Terdapat beberap fitur yang ada pada dataset ini yaitu sebagai berikut:\n",
    "\n",
    "1. **Age**: Mewakili usia pasien, mengindikasikan faktor demografis yang mungkin relevan dengan kesehatan hati.\n",
    "\n",
    "2. **Gender**: Menunjukkan jenis kelamin pasien, memberikan informasi tentang distribusi penyakit hati antar jenis kelamin.\n",
    "\n",
    "3. **TB (Total Bilirubin)**: Mengukur total bilirubin dalam darah, yang dapat menjadi indikator fungsi dan kesehatan hati.Bilirubin merupakan pigmen kuning yang dihasilkan sebagai hasil pemecahan hemoglobin dari sel darah merah yang tua di hati. \n",
    "\n",
    "4. **DB (Direct Bilirubin)**: Secara khusus mengukur bilirubin langsung atau tidak terkonjugasi, memberikan informasi lebih rinci tentang tingkat bilirubin terkait dengan kesehatan hati.\n",
    "\n",
    "5. **Alkphos (Alkaline Phosphatase)**: Mengukur level alkaline phosphatase, enzim yang dapat terkait dengan kesehatan hati dan tulang. Tingkat yang meningkat dapat menunjukkan masalah hati.\n",
    "\n",
    "6. **SGPT (Alamine Aminotransferase)**: Mengukur level SGPT, sebuah enzim yang dapat menunjukkan kerusakan atau peradangan pada hati. Tingkat SGPT yang tinggi dalam tes darah dapat menjadi indikasi kerusakan hati, seperti hepatitis atau kerusakan hati akibat alkohol atau obat-obatan.\n",
    "\n",
    "7. **SGOT (Aspartate Aminotransferase)**: Mengukur level SGOT, enzim yang terdapat di berbagai jaringan, dengan level yang tinggi mungkin mengindikasikan masalah pada hati atau jantung.\n",
    "\n",
    "8. **TP (Total Protein)**: Menunjukkan total protein dalam darah, yang dapat terkait dengan fungsi hati dan kesehatan secara umum.\n",
    "\n",
    "9. **Alb (Albumin)**: Mengukur tingkat albumin dalam darah, protein penting yang diproduksi oleh hati, dan dapat menjadi indikator fungsi hati. Penurunan kadar albumin dalam darah dapat terjadi pada pasien dengan penyakit hati yang merusak kemampuan hati untuk memproduksi protein ini.\n",
    "\n",
    "10. **A/G Ratio (Rasio Albumin/Globulin)**: Mewakili rasio albumin terhadap globulin dalam darah, memberikan wawasan tentang fungsi hati dan ginjal.\n",
    "\n",
    "11. **Selector**: kolom yang digunakan untuk pelabelan diagnosa liver dan non liver.\n",
    "- 1: Liver\n",
    "- 2: NonLiver"
   ]
  },
  {
   "cell_type": "markdown",
   "metadata": {},
   "source": [
    "### **3. Eksplorasi Data**"
   ]
  },
  {
   "cell_type": "markdown",
   "metadata": {},
   "source": [
    "### - Visualisasi Data\n",
    "Visualisasi data dilakukan untuk memudahkan dalam memahami data dengan memperoleh informasi sebaran nilai dari dataset."
   ]
  },
  {
   "cell_type": "code",
   "execution_count": 4,
   "metadata": {},
   "outputs": [
    {
     "data": {
      "text/plain": [
       "<function matplotlib.pyplot.show(close=None, block=None)>"
      ]
     },
     "execution_count": 4,
     "metadata": {},
     "output_type": "execute_result"
    },
    {
     "data": {
      "image/png": "[encoded data removed]",
      "text/plain": [
       "<Figure size 1500x1500 with 12 Axes>"
      ]
     },
     "metadata": {},
     "output_type": "display_data"
    }
   ],
   "source": [
    "import matplotlib.pyplot as plt\n",
    "\n",
    "data.hist(figsize=(15,15))\n",
    "plt.show"
   ]
  },
  {
   "cell_type": "markdown",
   "metadata": {},
   "source": [
    "### **4. Identifikasi Kualitas Data**"
   ]
  },
  {
   "cell_type": "markdown",
   "metadata": {},
   "source": [
    "### - Identifikasi Missing value"
   ]
  },
  {
   "cell_type": "markdown",
   "metadata": {},
   "source": [
    "Missing value yaitu hilangnya satu atau beberapa data dalam suatu atribut. Penyebab dari adanya missing value yaitu kesalahan pada saat memasukkan data, variabel yang tidak relevan, dan ketidakmampuan merekam informasi, serta penghapusan.\n",
    "\n",
    "Penanganan Missing value : Jika atribut tersebut memiliki banyak missing value, maka atribut tersebut perlu dihapus dari dataset. Namun jika hanya terdapat beberapa data yang missing value bisa dilakukan drop dari baris yang memiliki missing value atau mengisinya dengan rata-rata nilai pada atribut yang bersangkutan.\n",
    "\n",
    "Contoh adanya missing value:\n",
    "\n",
    "<table>\n",
    "    <tr>\n",
    "    <td>fitur1</td>\n",
    "    <td>fitur2</td>\n",
    "    </tr>\n",
    "    <tr>\n",
    "    <td></td>\n",
    "    <td>22</td>\n",
    "    </tr>\n",
    "    <tr>\n",
    "    <td></td>\n",
    "    <td>20</td>\n",
    "    </tr>\n",
    "    <tr>\n",
    "    <td>4</td>\n",
    "    <td>14</td>\n",
    "    </tr>\n",
    "    <tr>\n",
    "    <td></td>\n",
    "    <td>5</td>\n",
    "    </tr>\n",
    "    <tr>\n",
    "    <td></td>\n",
    "    <td>1</td>\n",
    "    </tr>\n",
    "</table>  \n",
    "\n",
    "Dari tabel di atas, fitur 1 memiliki banyak sekali missing value sehingga atribut fitur 1 perlu dihilangkan.\n",
    "\n",
    "Untuk mengidentifikasi ada tidaknya missing value, menggunakan fungsi *isna( )* yang digunakan untuk mengidentifikasi apakah setiap fitur dalam dataset memiliki nilai yang hilang (NaN atau NULL). Selain itu, juga menggunakan fungsi *any( )* yang digunakan untuk menentukan apakah ada setidaknya satu nilai yang hilang dalam setiap fitur."
   ]
  },
  {
   "cell_type": "code",
   "execution_count": 5,
   "metadata": {},
   "outputs": [
    {
     "name": "stdout",
     "output_type": "stream",
     "text": [
      "Apakah ada nilai yang hilang dalam setiap kolom:\n",
      "Selector     False\n",
      "Age          False\n",
      "Gender       False\n",
      "TB           False\n",
      "DB           False\n",
      "Alkphos      False\n",
      "Sgpt         False\n",
      "Sgot         False\n",
      "TP           False\n",
      "ALB          False\n",
      "A/G Ratio     True\n",
      "dtype: bool\n"
     ]
    }
   ],
   "source": [
    "# menghitung apakah ada nilai yang hilang dalam setiap kolom\n",
    "missing_values = data.isna().any()\n",
    "\n",
    "# menampilkan hasil\n",
    "print(\"Apakah ada nilai yang hilang dalam setiap kolom:\")\n",
    "print(missing_values)"
   ]
  },
  {
   "cell_type": "markdown",
   "metadata": {},
   "source": [
    "*Note* : terdapat missing value pada fitur *A/G Ratio*"
   ]
  },
  {
   "cell_type": "markdown",
   "metadata": {},
   "source": [
    "Jumlah missing value pada data"
   ]
  },
  {
   "cell_type": "code",
   "execution_count": 6,
   "metadata": {},
   "outputs": [
    {
     "name": "stdout",
     "output_type": "stream",
     "text": [
      "Jumlah Missing Values dalam Setiap Kolom:\n",
      "Selector     0\n",
      "Age          0\n",
      "Gender       0\n",
      "TB           0\n",
      "DB           0\n",
      "Alkphos      0\n",
      "Sgpt         0\n",
      "Sgot         0\n",
      "TP           0\n",
      "ALB          0\n",
      "A/G Ratio    4\n",
      "dtype: int64\n"
     ]
    }
   ],
   "source": [
    "missing_values = data.isnull().sum()\n",
    "print(\"Jumlah Missing Values dalam Setiap Kolom:\")\n",
    "print(missing_values)"
   ]
  },
  {
   "cell_type": "markdown",
   "metadata": {},
   "source": [
    "### - Identifikasi Duplikat data"
   ]
  },
  {
   "cell_type": "markdown",
   "metadata": {},
   "source": [
    "Untuk mengidentifikasi baris-baris dalam dataset yang merupakan duplikat dari baris-baris sebelumnya yaitu dengan menggunakan fungsi *dupicate( )*"
   ]
  },
  {
   "cell_type": "code",
   "execution_count": 7,
   "metadata": {},
   "outputs": [
    {
     "name": "stdout",
     "output_type": "stream",
     "text": [
      "Jumlah data yang duplikat: 13\n"
     ]
    }
   ],
   "source": [
    "jumlah_duplikat = data.duplicated().sum()\n",
    "\n",
    "# menampilkan jumlah data yang duplikat\n",
    "print(\"Jumlah data yang duplikat:\", jumlah_duplikat)"
   ]
  },
  {
   "cell_type": "markdown",
   "metadata": {},
   "source": [
    "*Note* : terdapat beberapa baris data yang sama, sehingga data tersebut harus dihilangkan untuk menghindari adanya data yang redundan"
   ]
  },
  {
   "cell_type": "markdown",
   "metadata": {},
   "source": [
    "### - Identifikasi Outlier"
   ]
  },
  {
   "cell_type": "markdown",
   "metadata": {},
   "source": [
    "Outlier merupakan nilai yang signifikan atau ekstrem yang berbeda secara signifikan dari sebagian besar dalam satu dataset.\n",
    "\n",
    "Contoh :  \n",
    "\n",
    "<table>\n",
    "    <tr>\n",
    "    <td>Nama</td>\n",
    "    <td>Nilai Ujian</td>\n",
    "    </tr>\n",
    "    <tr>\n",
    "    <td>siswa 1</td>\n",
    "    <td>79</td>\n",
    "    </tr>\n",
    "    <tr>\n",
    "    <td>siswa 2</td>\n",
    "    <td>9000</td>\n",
    "    </tr>\n",
    "    <tr>\n",
    "    <td>siswa 3</td>\n",
    "    <td>87</td>\n",
    "    </tr>\n",
    "    <td>siswa 4</td>\n",
    "    <td>78</td>\n",
    "    <tr>\n",
    "    <td>siswa 5</td>\n",
    "    <td>84</td>\n",
    "    </tr>\n",
    "</table>\n",
    "\n",
    "Dari data tersebut ditemukan satu outlier yakni pada data siswa 2 yang mana, nilai 9000 merupakan contoh outlier karena nilainya jauh lebih besar daripada nilai-nilai ujian lainnya.\n",
    "\n",
    "Untuk mengidentifikasi outlier dengan mengimport kelas *LocalOutlierfactor* yang menyediakan implementasi algoritma LOF untuk deteksi outlier.Pada model LOF menggunakan parameter n_neighbors yaitu jumlah tetangga yang akan digunakan dalam perhitungan LOF. Pada model LOF menggunakan fungsi *fit_predict* yang digunakan untuk menilai apakah setiap baris dalam dataset merupakan outlier atau bukan, hasilnya yaitu dengan nilai -1 untuk outlier dan 1 untuk data yang bukan outlier."
   ]
  },
  {
   "cell_type": "code",
   "execution_count": 8,
   "metadata": {},
   "outputs": [
    {
     "name": "stdout",
     "output_type": "stream",
     "text": [
      "Jumlah outlier: 38\n"
     ]
    }
   ],
   "source": [
    "from sklearn.impute import SimpleImputer\n",
    "from sklearn.preprocessing import StandardScaler\n",
    "from sklearn.neighbors import LocalOutlierFactor\n",
    "import numpy as np\n",
    "import pandas as pd\n",
    "\n",
    "\n",
    "# Membagi data menjadi numerik dan kategorikal\n",
    "numerical_cols = data.select_dtypes(include=['int', 'float']).columns\n",
    "categorical_cols = data.select_dtypes(include='object').columns\n",
    "\n",
    "# Menggunakan SimpleImputer untuk mengisi nilai yang hilang dengan mean (dapat disesuaikan)\n",
    "imputer = SimpleImputer(strategy='mean')\n",
    "data[numerical_cols] = imputer.fit_transform(data[numerical_cols])\n",
    "\n",
    "# Label Encoding untuk kolom kategorikal\n",
    "from sklearn.preprocessing import LabelEncoder\n",
    "\n",
    "label_encoder = LabelEncoder()\n",
    "data[categorical_cols] = data[categorical_cols].apply(lambda col: label_encoder.fit_transform(col))\n",
    "\n",
    "# Menggabungkan kolom numerik dan kategorikal\n",
    "selected_data = data[numerical_cols.union(categorical_cols)]\n",
    "\n",
    "# Normalisasi data numerik\n",
    "scaler = StandardScaler()\n",
    "selected_data[numerical_cols] = scaler.fit_transform(selected_data[numerical_cols])\n",
    "\n",
    "# Membuat model LOF\n",
    "clf = LocalOutlierFactor(n_neighbors=20)  # Jumlah tetangga yang digunakan\n",
    "outlier_scores = clf.fit_predict(selected_data)\n",
    "\n",
    "# Menampilkan indeks outlier\n",
    "outlier_indices = np.where(outlier_scores == -1)[0]\n",
    "print(\"Jumlah outlier:\", len(outlier_indices))\n"
   ]
  },
  {
   "cell_type": "markdown",
   "metadata": {},
   "source": [
    "*Note* : terdapat data yang memiliki outlier, sehingga data tersebut harus dihilangkan"
   ]
  },
  {
   "cell_type": "markdown",
   "metadata": {},
   "source": [
    "### - Identifikasi Jumlah Data"
   ]
  },
  {
   "cell_type": "markdown",
   "metadata": {},
   "source": [
    "Dengan mengidentifikasi jumlah data, dapat mengetahui seberapa berbeda pada jumlah data di tiap-tiap label. Jika jumlah data antar label memiliki perbedaan yang sangat jauh maka akan mempengaruhi akurasi dan hasil klasifikasi sehingga perlu dilakukan penyeimbangan jumlah data di tiap labelnya."
   ]
  },
  {
   "cell_type": "code",
   "execution_count": 9,
   "metadata": {},
   "outputs": [
    {
     "name": "stdout",
     "output_type": "stream",
     "text": [
      "Jumlah data pada tiap target :\n",
      "Selector\n",
      "1.0    416\n",
      "2.0    167\n",
      "Name: count, dtype: int64\n"
     ]
    }
   ],
   "source": [
    "# menghitung jumlah target pada data tanpa outlier\n",
    "tiap_label = data['Selector'].value_counts()\n",
    "\n",
    "print(\"Jumlah data pada tiap target :\")\n",
    "print(tiap_label)"
   ]
  },
  {
   "cell_type": "markdown",
   "metadata": {},
   "source": [
    "*Note* : terjadi ketimpangan data yang signifikan sehingga dilakukan balancing data agar proporsi data tidak condong pada satu kelas saja."
   ]
  },
  {
   "cell_type": "markdown",
   "metadata": {},
   "source": [
    "**Hasil Analisa Pada Data Understanding :**\n",
    "\n",
    "1. Data memiliki _missing values_\n",
    "2. Data memiliki 13 data duplikat atau redundan\n",
    "3. Data memiliki 1 outlier\n",
    "4. Perbandingan proporsi data tiap target sangat jauh "
   ]
  },
  {
   "cell_type": "markdown",
   "metadata": {},
   "source": [
    "## -- DATA PREPROCESSING --"
   ]
  },
  {
   "cell_type": "markdown",
   "metadata": {},
   "source": [
    "Setelah memahami data, akan dilakukan tahap preprocessing untuk menangani masalah pada data yang sudah didefinisikan pada data understanding, yaitu:\n",
    "\n",
    "1. Menghapus Missing Value\n",
    "2. Menghapus Data Duplikat\n",
    "3. Menghapus Outlier\n",
    "4. Menyeimbangkan proporsi data tiap target\n",
    "\n",
    "Setelah data siap, akan dilakukan skoring fitur kembali."
   ]
  },
  {
   "cell_type": "code",
   "execution_count": 10,
   "metadata": {},
   "outputs": [
    {
     "data": {
      "text/html": [
       "<div>\n",
       "<style scoped>\n",
       "    .dataframe tbody tr th:only-of-type {\n",
       "        vertical-align: middle;\n",
       "    }\n",
       "\n",
       "    .dataframe tbody tr th {\n",
       "        vertical-align: top;\n",
       "    }\n",
       "\n",
       "    .dataframe thead th {\n",
       "        text-align: right;\n",
       "    }\n",
       "</style>\n",
       "<table border=\"1\" class=\"dataframe\">\n",
       "  <thead>\n",
       "    <tr style=\"text-align: right;\">\n",
       "      <th></th>\n",
       "      <th>Selector</th>\n",
       "      <th>Age</th>\n",
       "      <th>Gender</th>\n",
       "      <th>TB</th>\n",
       "      <th>DB</th>\n",
       "      <th>Alkphos</th>\n",
       "      <th>Sgpt</th>\n",
       "      <th>Sgot</th>\n",
       "      <th>TP</th>\n",
       "      <th>ALB</th>\n",
       "      <th>A/G Ratio</th>\n",
       "    </tr>\n",
       "  </thead>\n",
       "  <tbody>\n",
       "    <tr>\n",
       "      <th>0</th>\n",
       "      <td>1</td>\n",
       "      <td>65</td>\n",
       "      <td>Female</td>\n",
       "      <td>0.7</td>\n",
       "      <td>0.1</td>\n",
       "      <td>187.0</td>\n",
       "      <td>16.0</td>\n",
       "      <td>18.0</td>\n",
       "      <td>6.8</td>\n",
       "      <td>3.3</td>\n",
       "      <td>0.9</td>\n",
       "    </tr>\n",
       "    <tr>\n",
       "      <th>1</th>\n",
       "      <td>1</td>\n",
       "      <td>62</td>\n",
       "      <td>Male</td>\n",
       "      <td>10.9</td>\n",
       "      <td>5.5</td>\n",
       "      <td>699.0</td>\n",
       "      <td>64.0</td>\n",
       "      <td>100.0</td>\n",
       "      <td>7.5</td>\n",
       "      <td>3.2</td>\n",
       "      <td>0.7</td>\n",
       "    </tr>\n",
       "    <tr>\n",
       "      <th>2</th>\n",
       "      <td>1</td>\n",
       "      <td>62</td>\n",
       "      <td>Male</td>\n",
       "      <td>7.3</td>\n",
       "      <td>4.1</td>\n",
       "      <td>490.0</td>\n",
       "      <td>60.0</td>\n",
       "      <td>68.0</td>\n",
       "      <td>7.0</td>\n",
       "      <td>3.3</td>\n",
       "      <td>0.9</td>\n",
       "    </tr>\n",
       "    <tr>\n",
       "      <th>3</th>\n",
       "      <td>1</td>\n",
       "      <td>58</td>\n",
       "      <td>Male</td>\n",
       "      <td>1.0</td>\n",
       "      <td>0.4</td>\n",
       "      <td>182.0</td>\n",
       "      <td>14.0</td>\n",
       "      <td>20.0</td>\n",
       "      <td>6.8</td>\n",
       "      <td>3.4</td>\n",
       "      <td>1.0</td>\n",
       "    </tr>\n",
       "    <tr>\n",
       "      <th>4</th>\n",
       "      <td>1</td>\n",
       "      <td>72</td>\n",
       "      <td>Male</td>\n",
       "      <td>3.9</td>\n",
       "      <td>2.0</td>\n",
       "      <td>195.0</td>\n",
       "      <td>27.0</td>\n",
       "      <td>59.0</td>\n",
       "      <td>7.3</td>\n",
       "      <td>2.4</td>\n",
       "      <td>0.4</td>\n",
       "    </tr>\n",
       "  </tbody>\n",
       "</table>\n",
       "</div>"
      ],
      "text/plain": [
       "   Selector  Age  Gender    TB   DB  Alkphos  Sgpt   Sgot   TP  ALB  A/G Ratio\n",
       "0         1   65  Female   0.7  0.1    187.0  16.0   18.0  6.8  3.3        0.9\n",
       "1         1   62    Male  10.9  5.5    699.0  64.0  100.0  7.5  3.2        0.7\n",
       "2         1   62    Male   7.3  4.1    490.0  60.0   68.0  7.0  3.3        0.9\n",
       "3         1   58    Male   1.0  0.4    182.0  14.0   20.0  6.8  3.4        1.0\n",
       "4         1   72    Male   3.9  2.0    195.0  27.0   59.0  7.3  2.4        0.4"
      ]
     },
     "execution_count": 10,
     "metadata": {},
     "output_type": "execute_result"
    }
   ],
   "source": [
    "import pandas as pd\n",
    "\n",
    "data = pd.read_csv('dataset.csv')\n",
    "data.head(5)"
   ]
  },
  {
   "cell_type": "markdown",
   "metadata": {},
   "source": [
    "### - Melakukan labelin pada kolom Gender"
   ]
  },
  {
   "cell_type": "markdown",
   "metadata": {},
   "source": [
    "Labelin adalah suatu tindakan yang memberikan label atau penanda pada data dengan tujuan untuk mengidentifikasi, mengklasifikasikan, atau memberikan informasi tambahan tentang data tersebut. Untuk melakukan labelin, menggunakan fungsi *LabelEncoder* yang memberikan label numerik pada nilai-nilai kategori untuk memungkinkan model machine learning memahami dan bekerja dengan data tersebut."
   ]
  },
  {
   "cell_type": "code",
   "execution_count": 11,
   "metadata": {},
   "outputs": [],
   "source": [
    "from sklearn.preprocessing import LabelEncoder\n",
    "\n",
    "# Membuat objek LabelEncoder\n",
    "label_encoder = LabelEncoder()\n",
    "\n",
    "# Mengubah label menjadi numerik\n",
    "data['Gender'] = label_encoder.fit_transform(data['Gender'])"
   ]
  },
  {
   "cell_type": "code",
   "execution_count": 12,
   "metadata": {},
   "outputs": [
    {
     "name": "stdout",
     "output_type": "stream",
     "text": [
      "Jumlah data :  583\n",
      "Jumlah kolom :  11\n"
     ]
    }
   ],
   "source": [
    "# rincian dataset (jumlah data dan kolom)\n",
    "\n",
    "print(\"Jumlah data : \", data.shape[0])\n",
    "print(\"Jumlah kolom : \", data.shape[1])"
   ]
  },
  {
   "cell_type": "markdown",
   "metadata": {},
   "source": [
    "### 1. Menghapus Data yang Missing Value"
   ]
  },
  {
   "cell_type": "markdown",
   "metadata": {},
   "source": [
    "Missing value yaitu hilangnya satu atau beberapa data dalam suatu atribut. Penyebab dari adanya missing value yaitu kesalahan pada saat memasukkan data, variabel yang tidak relevan, dan ketidakmampuan merekam informasi, serta penghapusan.\n",
    "\n",
    "Penanganan Missing value : Jika atribut tersebut memiliki banyak missing value, maka atribut tersebut perlu dihapus dari dataset. Namun jika hanya terdapat beberapa data yang missing value bisa dilakukan drop dari baris yang memiliki missing value atau mengisinya dengan rata-rata nilai pada atribut yang bersangkutan.\n",
    "\n",
    "Contoh adanya missing value:\n",
    "\n",
    "<table>\n",
    "    <tr>\n",
    "    <td>fitur1</td>\n",
    "    <td>fitur2</td>\n",
    "    </tr>\n",
    "    <tr>\n",
    "    <td>7</td>\n",
    "    <td>22</td>\n",
    "    </tr>\n",
    "    <tr>\n",
    "    <td></td>\n",
    "    <td>20</td>\n",
    "    </tr>\n",
    "    <tr>\n",
    "    <td>4</td>\n",
    "    <td>14</td>\n",
    "    </tr>\n",
    "    <tr>\n",
    "    <td>9</td>\n",
    "    <td>5</td>\n",
    "    </tr>\n",
    "    <tr>\n",
    "    <td></td>\n",
    "    <td>1</td>\n",
    "    </tr>\n",
    "</table>  \n",
    "\n",
    "Dari tabel di atas, memiliki missing value sehingga baris ke 2 dan baris ke 4 perlu dihilangkan.\n",
    "Untuk menghapus missing value digunakan fungsi *dropna()*"
   ]
  },
  {
   "cell_type": "code",
   "execution_count": 13,
   "metadata": {},
   "outputs": [],
   "source": [
    "data = data.dropna()"
   ]
  },
  {
   "cell_type": "markdown",
   "metadata": {},
   "source": [
    "### 2. Menghapus Data Duplikat"
   ]
  },
  {
   "cell_type": "markdown",
   "metadata": {},
   "source": [
    "Duplikat data merupakan suatu baris memiliki nilai yang sama persis di semua kolom pada baris lainnya.\n",
    "\n",
    "contoh :\n",
    "\n",
    "<table>\n",
    "    <tr>\n",
    "    <td>Nama</td>\n",
    "    <td>Biologi</td>\n",
    "    <td>Kimia</td>\n",
    "    <td>Matematika</td>\n",
    "    <td>Fisika</td>\n",
    "    </tr>\n",
    "    <tr>\n",
    "    <td>Murid1</td>\n",
    "    <td>80</td>\n",
    "    <td>78</td>\n",
    "    <td>90</td>\n",
    "    <td>88</td>\n",
    "    </tr>\n",
    "    <tr>\n",
    "    <td>Murid2</td>\n",
    "    <td>92</td>\n",
    "    <td>100</td>\n",
    "    <td>87</td>\n",
    "    <td>76</td>\n",
    "    </tr>\n",
    "    <tr>\n",
    "    <td>Murid3</td>\n",
    "    <td>92</td>\n",
    "    <td>100</td>\n",
    "    <td>87</td>\n",
    "    <td>76</td>\n",
    "    </tr>\n",
    "    <tr>\n",
    "    <td>Murid4</td>\n",
    "    <td>88</td>\n",
    "    <td>87</td>\n",
    "    <td>75</td>\n",
    "    <td>79</td>\n",
    "    </tr>\n",
    "</table>\n",
    "\n",
    "Data pada baris ke 2 dan baris ke 3 memiliki nilai yang sama sehingga nantinya data pada baris ke 3 akan dihapus. Untuk menghapus data duplikat digunakan fungsi *drop_duplicates()*"
   ]
  },
  {
   "cell_type": "code",
   "execution_count": 14,
   "metadata": {},
   "outputs": [
    {
     "name": "stdout",
     "output_type": "stream",
     "text": [
      "Banyaknya sisa data :  566\n"
     ]
    }
   ],
   "source": [
    "# Menghapus data yang duplikat\n",
    "data_bersih = data.drop_duplicates()\n",
    "\n",
    "print(\"Banyaknya sisa data : \", data_bersih.shape[0])"
   ]
  },
  {
   "cell_type": "markdown",
   "metadata": {},
   "source": [
    "### 3. Menghapus Outlier"
   ]
  },
  {
   "cell_type": "markdown",
   "metadata": {},
   "source": [
    "Outlier merupakan nilai yang signifikan atau ekstrem yang berbeda secara signifikan dari sebagian besar dalam satu dataset.\n",
    "\n",
    "Contoh :  \n",
    "\n",
    "<table>\n",
    "    <tr>\n",
    "    <td>Nama</td>\n",
    "    <td>Nilai Ujian</td>\n",
    "    </tr>\n",
    "    <tr>\n",
    "    <td>siswa 1</td>\n",
    "    <td>79</td>\n",
    "    </tr>\n",
    "    <tr>\n",
    "    <td>siswa 2</td>\n",
    "    <td>9000</td>\n",
    "    </tr>\n",
    "    <tr>\n",
    "    <td>siswa 3</td>\n",
    "    <td>87</td>\n",
    "    </tr>\n",
    "    <td>siswa 4</td>\n",
    "    <td>78</td>\n",
    "    <tr>\n",
    "    <td>siswa 5</td>\n",
    "    <td>84</td>\n",
    "    </tr>\n",
    "</table>\n",
    "\n",
    "Dari data tersebut ditemukan satu outlier yakni pada data siswa 2 yang mana, nilai 9000 merupakan contoh outlier karena nilainya jauh lebih besar daripada nilai-nilai ujian lainnya.\n",
    "\n"
   ]
  },
  {
   "cell_type": "code",
   "execution_count": 15,
   "metadata": {},
   "outputs": [
    {
     "name": "stdout",
     "output_type": "stream",
     "text": [
      "Sisa data :  559\n"
     ]
    }
   ],
   "source": [
    "from sklearn.neighbors import LocalOutlierFactor\n",
    "\n",
    "# Menggunakan Local Outlier Factor\n",
    "lof = LocalOutlierFactor(n_neighbors=5)\n",
    "outlier_scores = lof.fit_predict(data)\n",
    "\n",
    "data_bersih = data[outlier_scores != -1]\n",
    "print(\"Sisa data : \", data_bersih.shape[0])"
   ]
  },
  {
   "cell_type": "markdown",
   "metadata": {},
   "source": [
    "### 4. Menyeimbangkan Data Tiap Target"
   ]
  },
  {
   "cell_type": "markdown",
   "metadata": {},
   "source": [
    "Dengan mengetahui jumlah data, dapat mengetahui seberapa berbeda pada jumlah data di tiap-tiap label. Jika jumlah data antar label memiliki perbedaan yang sangat jauh maka akan mempengaruhi akurasi dan hasil klasifikasi sehingga perlu dilakukan penyeimbangan jumlah data di tiap labelnya."
   ]
  },
  {
   "cell_type": "code",
   "execution_count": 16,
   "metadata": {},
   "outputs": [
    {
     "data": {
      "text/plain": [
       "Selector\n",
       "1    395\n",
       "2    164\n",
       "Name: count, dtype: int64"
      ]
     },
     "execution_count": 16,
     "metadata": {},
     "output_type": "execute_result"
    }
   ],
   "source": [
    "fitur = data_bersih.drop(columns=['Selector'])\n",
    "target = data_bersih['Selector']\n",
    "\n",
    "target.value_counts()"
   ]
  },
  {
   "cell_type": "markdown",
   "metadata": {},
   "source": [
    "### - Penyeimbangan Jumlah atau Proporsi Data"
   ]
  },
  {
   "cell_type": "code",
   "execution_count": 17,
   "metadata": {},
   "outputs": [
    {
     "name": "stdout",
     "output_type": "stream",
     "text": [
      "Jumlah sampel setelah diseimbangkan : \n",
      "Selector\n",
      "1    164\n",
      "2    164\n",
      "Name: count, dtype: int64\n"
     ]
    }
   ],
   "source": [
    "from imblearn.under_sampling import RandomUnderSampler\n",
    "\n",
    "smote = RandomUnderSampler()\n",
    "fitur_seimbang, target_seimbang = smote.fit_resample(fitur, target)\n",
    "\n",
    "print(\"Jumlah sampel setelah diseimbangkan : \")\n",
    "print(target_seimbang.value_counts())"
   ]
  },
  {
   "cell_type": "markdown",
   "metadata": {},
   "source": [
    "### - Visualisasi Banyaknya Data di Tiap Label"
   ]
  },
  {
   "cell_type": "code",
   "execution_count": 18,
   "metadata": {},
   "outputs": [
    {
     "data": {
      "image/png": "[encoded data removed]",
      "text/plain": [
       "<Figure size 1100x500 with 2 Axes>"
      ]
     },
     "metadata": {},
     "output_type": "display_data"
    }
   ],
   "source": [
    "import matplotlib.pyplot as plt\n",
    "\n",
    "fig, axs = plt.subplots(1, 2, figsize=(11, 5))\n",
    "\n",
    "# Plot distribusi kelas target sebelum penyeimbangan\n",
    "target_tidak_seimbang = target.value_counts()\n",
    "axs[0].pie(target_tidak_seimbang, labels=target_tidak_seimbang.index, autopct='%.2f')\n",
    "axs[0].set_title('Distribusi Kelas Target Sebelum Diseimbangkan')\n",
    "axs[0].axis('equal')\n",
    "\n",
    "# Plot distribusi kelas target setelah penyeimbangan\n",
    "target_sudah_seimbang = target_seimbang.value_counts()\n",
    "axs[1].pie(target_sudah_seimbang, labels=target_sudah_seimbang.index, autopct='%.2f')\n",
    "axs[1].set_title('Distribusi Kelas Target Yang Telah Diseimbangkan')\n",
    "axs[1].axis('equal')\n",
    "\n",
    "plt.tight_layout()\n",
    "plt.show()"
   ]
  },
  {
   "cell_type": "markdown",
   "metadata": {},
   "source": [
    "### - Hasil Preprocessing Data"
   ]
  },
  {
   "cell_type": "markdown",
   "metadata": {},
   "source": [
    "simpan data yang telah seimbang di dalam file csv baru"
   ]
  },
  {
   "cell_type": "code",
   "execution_count": 19,
   "metadata": {},
   "outputs": [],
   "source": [
    "import pandas as pd\n",
    "\n",
    "# Membuat DataFrame dari fitur dan target yang telah seimbang\n",
    "data_seimbang = pd.concat([fitur_seimbang, target_seimbang], axis=1)\n",
    "\n",
    "# Menyimpan DataFrame ke dalam file CSV\n",
    "data_seimbang.to_csv('data_seimbang.csv', index=False)"
   ]
  },
  {
   "cell_type": "markdown",
   "metadata": {},
   "source": [
    "### - Feature Selection"
   ]
  },
  {
   "cell_type": "markdown",
   "metadata": {},
   "source": [
    "Skoring fitur dilakukan dapat mengetahui fitur mana yang penting dan yang tidak. Dikarenakan tidak semua fitur dapat dijadikan ciri untuk melakukan klasifikasi.\n",
    "\n",
    "Pada skoring fitur mengimport kelas *SelectKBest* yang digunakan untuk memilih k fitur terbaik berdasrakan suatu fungsi skor dan *mutual_info_classif* digunakan untuk mengukur seberapa banyak informasi yang dibawa oleh suatu fitur terhadap target."
   ]
  },
  {
   "cell_type": "markdown",
   "metadata": {},
   "source": [
    "Melakukan skoring fitur pada data"
   ]
  },
  {
   "cell_type": "code",
   "execution_count": 20,
   "metadata": {},
   "outputs": [
    {
     "name": "stdout",
     "output_type": "stream",
     "text": [
      "Fitur 0: Age, Skor: 0.08364241423243701\n",
      "Fitur 1: Gender, Skor: 0.028502878921184083\n",
      "Fitur 2: TB, Skor: 0.10373086325954839\n",
      "Fitur 3: DB, Skor: 0.07761386953230742\n",
      "Fitur 4: Alkphos, Skor: 0.053755060611790695\n",
      "Fitur 5: Sgpt, Skor: 0.08905960348306685\n",
      "Fitur 6: Sgot, Skor: 0.11271929723285545\n",
      "Fitur 7: TP, Skor: 0.025086139833712995\n",
      "Fitur 8: ALB, Skor: 0.04669794088913526\n",
      "Fitur 9: A/G Ratio, Skor: 0.06695672361523552\n"
     ]
    }
   ],
   "source": [
    "from sklearn.feature_selection import SelectKBest, mutual_info_classif\n",
    "\n",
    "# Buat objek SelectKBest dengan mutual_info_classif sebagai fungsi skor\n",
    "k_best = SelectKBest(score_func=mutual_info_classif, k='all')  # 'all' berarti akan mempertahankan semua fitur\n",
    "\n",
    "# Hitung skor fitur\n",
    "k_best.fit(fitur_seimbang, target_seimbang)\n",
    "scores = k_best.scores_\n",
    "\n",
    "# Dapatkan nama fitur dari kolom data Anda\n",
    "fitur_names = fitur.columns\n",
    "\n",
    "# Tampilkan skor fitur berserta namanya\n",
    "for i, (score, fitur_name) in enumerate(zip(scores, fitur_names)):\n",
    "    print(f\"Fitur {i}: {fitur_name}, Skor: {score}\")"
   ]
  },
  {
   "cell_type": "code",
   "execution_count": 21,
   "metadata": {},
   "outputs": [
    {
     "data": {
      "image/png": "[encoded data removed]",
      "text/plain": [
       "<Figure size 1800x600 with 1 Axes>"
      ]
     },
     "metadata": {},
     "output_type": "display_data"
    }
   ],
   "source": [
    "import matplotlib.pyplot as plt\n",
    "\n",
    "# Tampilkan skor fitur dalam grafik\n",
    "plt.figure(figsize=(18, 6))\n",
    "plt.bar(fitur_names, scores)\n",
    "# Menambahkan label pada sumbu x dan y, serta judul grafik\n",
    "plt.xlabel(\"Index Fitur\")\n",
    "plt.ylabel(\"Skor Fitur\")\n",
    "plt.title(\"Skor Fitur SelectKBest\")\n",
    "# Menambahkan label nama fitur pada sumbu x\n",
    "plt.xticks(range(len(fitur_names)), fitur_names, rotation=90)\n",
    "# Menampilkan grafik\n",
    "plt.show()\n"
   ]
  },
  {
   "cell_type": "markdown",
   "metadata": {},
   "source": [
    "## -- MODELLING -- "
   ]
  },
  {
   "cell_type": "markdown",
   "metadata": {},
   "source": [
    "### - Load Dataset"
   ]
  },
  {
   "cell_type": "code",
   "execution_count": 22,
   "metadata": {},
   "outputs": [
    {
     "data": {
      "text/html": [
       "<div>\n",
       "<style scoped>\n",
       "    .dataframe tbody tr th:only-of-type {\n",
       "        vertical-align: middle;\n",
       "    }\n",
       "\n",
       "    .dataframe tbody tr th {\n",
       "        vertical-align: top;\n",
       "    }\n",
       "\n",
       "    .dataframe thead th {\n",
       "        text-align: right;\n",
       "    }\n",
       "</style>\n",
       "<table border=\"1\" class=\"dataframe\">\n",
       "  <thead>\n",
       "    <tr style=\"text-align: right;\">\n",
       "      <th></th>\n",
       "      <th>Age</th>\n",
       "      <th>TB</th>\n",
       "      <th>DB</th>\n",
       "      <th>Sgpt</th>\n",
       "      <th>Selector</th>\n",
       "    </tr>\n",
       "  </thead>\n",
       "  <tbody>\n",
       "    <tr>\n",
       "      <th>0</th>\n",
       "      <td>49</td>\n",
       "      <td>0.8</td>\n",
       "      <td>0.2</td>\n",
       "      <td>23.0</td>\n",
       "      <td>1</td>\n",
       "    </tr>\n",
       "    <tr>\n",
       "      <th>1</th>\n",
       "      <td>14</td>\n",
       "      <td>1.4</td>\n",
       "      <td>0.5</td>\n",
       "      <td>58.0</td>\n",
       "      <td>1</td>\n",
       "    </tr>\n",
       "    <tr>\n",
       "      <th>2</th>\n",
       "      <td>62</td>\n",
       "      <td>1.2</td>\n",
       "      <td>0.4</td>\n",
       "      <td>38.0</td>\n",
       "      <td>1</td>\n",
       "    </tr>\n",
       "    <tr>\n",
       "      <th>3</th>\n",
       "      <td>35</td>\n",
       "      <td>1.0</td>\n",
       "      <td>0.3</td>\n",
       "      <td>133.0</td>\n",
       "      <td>1</td>\n",
       "    </tr>\n",
       "    <tr>\n",
       "      <th>4</th>\n",
       "      <td>18</td>\n",
       "      <td>0.8</td>\n",
       "      <td>0.2</td>\n",
       "      <td>55.0</td>\n",
       "      <td>1</td>\n",
       "    </tr>\n",
       "  </tbody>\n",
       "</table>\n",
       "</div>"
      ],
      "text/plain": [
       "   Age   TB   DB   Sgpt  Selector\n",
       "0   49  0.8  0.2   23.0         1\n",
       "1   14  1.4  0.5   58.0         1\n",
       "2   62  1.2  0.4   38.0         1\n",
       "3   35  1.0  0.3  133.0         1\n",
       "4   18  0.8  0.2   55.0         1"
      ]
     },
     "execution_count": 22,
     "metadata": {},
     "output_type": "execute_result"
    }
   ],
   "source": [
    "import pandas as pd\n",
    "\n",
    "# kolom-kolom yang ingin Anda pertahankan\n",
    "kolom_pilihan = ['Age', 'TB', 'DB', 'Sgpt', 'Selector'] \n",
    "\n",
    "# Buat dataset baru hanya dengan kolom yang dipilih\n",
    "dataset_baru = data_seimbang[kolom_pilihan]\n",
    "\n",
    "# Simpan dataset baru dalam file CSV\n",
    "dataset_baru.to_csv('dataset_baru.csv', index=False)  \n",
    "\n",
    "dataset_baru = pd.read_csv('dataset_baru.csv')\n",
    "dataset_baru.head(5)"
   ]
  },
  {
   "cell_type": "code",
   "execution_count": 23,
   "metadata": {},
   "outputs": [
    {
     "name": "stdout",
     "output_type": "stream",
     "text": [
      "Jumlah data :  328\n",
      "Jumlah kolom :  5\n"
     ]
    }
   ],
   "source": [
    "print(\"Jumlah data : \", dataset_baru.shape[0])\n",
    "print(\"Jumlah kolom : \", dataset_baru.shape[1])"
   ]
  },
  {
   "cell_type": "markdown",
   "metadata": {},
   "source": [
    "### - Split Dataset"
   ]
  },
  {
   "cell_type": "code",
   "execution_count": 24,
   "metadata": {},
   "outputs": [],
   "source": [
    "from sklearn.model_selection import train_test_split\n",
    "\n",
    "# memisahkan kolom fitur dan target\n",
    "fitur = dataset_baru.drop(columns=['Selector'], axis =1)\n",
    "target = dataset_baru['Selector']\n",
    "\n",
    "# melakukan pembagian dataset, dataset dibagi menjadi 80% data training dan 20% data testing\n",
    "fitur_train, fitur_test, target_train, target_test = train_test_split(fitur, target, test_size = 0.2, random_state=42)"
   ]
  },
  {
   "cell_type": "code",
   "execution_count": 25,
   "metadata": {},
   "outputs": [
    {
     "name": "stdout",
     "output_type": "stream",
     "text": [
      "Jumlah fitur yang digunakan :  4\n",
      "Jumlah data training :  262\n",
      "Jumlah data testing :  66\n"
     ]
    }
   ],
   "source": [
    "print(\"Jumlah fitur yang digunakan : \", fitur_train.shape[1])\n",
    "print(\"Jumlah data training : \", fitur_train.shape[0])\n",
    "print(\"Jumlah data testing : \", fitur_test.shape[0])"
   ]
  },
  {
   "cell_type": "code",
   "execution_count": 26,
   "metadata": {},
   "outputs": [
    {
     "data": {
      "text/plain": [
       "Selector\n",
       "2    132\n",
       "1    130\n",
       "Name: count, dtype: int64"
      ]
     },
     "execution_count": 26,
     "metadata": {},
     "output_type": "execute_result"
    }
   ],
   "source": [
    "target_train.value_counts()"
   ]
  },
  {
   "cell_type": "code",
   "execution_count": 27,
   "metadata": {},
   "outputs": [
    {
     "data": {
      "image/png": "[encoded data removed]",
      "text/plain": [
       "<Figure size 640x480 with 1 Axes>"
      ]
     },
     "metadata": {},
     "output_type": "display_data"
    }
   ],
   "source": [
    "import matplotlib.pyplot as plt\n",
    "\n",
    "value_counts = target_train.value_counts()\n",
    "\n",
    "plt.pie(value_counts, labels=value_counts.index, autopct='%.2f')\n",
    "plt.title('Perbandingan Jumlah Data Tiap Target')\n",
    "plt.axis('equal')\n",
    "plt.show()"
   ]
  },
  {
   "cell_type": "markdown",
   "metadata": {},
   "source": [
    "### - Normalisasi Data"
   ]
  },
  {
   "cell_type": "markdown",
   "metadata": {},
   "source": [
    "Normalisasi data adalah proses transformasi data dari fitur-fitur dalam dataset sehingga nilai dari fitur tersebut berada dalam rentang yang seragam. \n",
    "\n",
    "\n",
    "Z-score normalization, atau sering disebut sebagai standardization, adalah teknik normalisasi data yang mengubah nilai-nilai variabel sehingga distribusi data memiliki rata-rata (μ) 0 dan deviasi standar(σ) 1.\n",
    "\n",
    "Rumus untuk mencari Zscore:\n",
    "\n",
    "$$ Z = \\frac {X – μ}{σ} $$\n",
    "\n",
    "Penjelasan rumusnya:\n",
    "- Z = nilai yang sudah dinormalisasikan\n",
    "- X = nilai dari fitur\n",
    "- μ = rata-rata\n",
    "- σ = standar deviasi"
   ]
  },
  {
   "cell_type": "code",
   "execution_count": 28,
   "metadata": {},
   "outputs": [],
   "source": [
    "import pickle\n",
    "from sklearn.preprocessing import StandardScaler\n",
    "\n",
    "# menentukan lokasi file pickle akan disimpan\n",
    "path = 'zscorescaler.pkl'\n",
    "\n",
    "# membuat dan melatih objek StandardScaler\n",
    "zscore_scaler = StandardScaler()\n",
    "zscore_scaler.fit(fitur_train)\n",
    "\n",
    "# menyimpan model ke dalam file pickle\n",
    "with open(path, 'wb') as file:\n",
    "    pickle.dump(zscore_scaler, file)\n",
    "\n",
    "# memanggil kembali model normalisasi zscore dari file pickle\n",
    "with open(path, 'rb') as file:\n",
    "    zscore_scaler = pickle.load(file)\n",
    "\n",
    "# menerapkan normalisasi zscore pada data training\n",
    "zscore_training = zscore_scaler.transform(fitur_train)\n",
    "\n",
    "# menerapkan normalisasi zscore pada data testing\n",
    "zscore_testing = zscore_scaler.transform(fitur_test)"
   ]
  },
  {
   "cell_type": "markdown",
   "metadata": {},
   "source": [
    "### - Membuat model"
   ]
  },
  {
   "cell_type": "markdown",
   "metadata": {},
   "source": [
    "### Konsep Random Forest"
   ]
  },
  {
   "cell_type": "markdown",
   "metadata": {},
   "source": [
    "Menggunakan model Random Forest, random forest yaitu suatu algoritma ensemble yang menggabungkan sejumlah besar pohon keputusan untuk membuat prediksi yang lebih kuat dan stabil. Pembentukan pohon dengan sample data dengan menggunakan variable yang diambil secara acak dan menjalankan klasifikasi pada smeua pohon yang terbentuk.\n",
    "Konsep -  konsep yang ada pada random forest:\n",
    "- Bagging : dimana dataset asli dipilih secara acak dengan penggantian untuk membuat beberapa dataset pelatihan untuk setiap pohonnya.\n",
    "- Random feature selection : setiap pohon dibangun menggunakan subset acak dari fitur yang dipilih dari seluruh fitur - fitur yang ada pada dataset tersebut. Hal ini membantu mencegah pohon menjadi terlalu serupa dan meningkatkan keberagaman model.\n",
    "- Voting (majority voting) : untuk klasifikasi, random forest melakukan voting mayoritas dari semua pohon keputusan. Sedangkan untuk regresi, digunakan untuk mengambil rata-rata prediksi dari semua pohon.\n",
    "\n",
    "<!-- Rumus umum untuk pembentukan pohon dalam random forest:\n",
    "1. Gini Impurity (untuk klasifikasi):\n",
    "\n",
    "\n",
    "$$ Gini(t) = 1 - \\sum_{i=1}^{k} (p_i)^2 $$\n",
    "\n",
    "penjelasan:\n",
    "- Gini(t) = nilai ketidakmurnian gini di simpul t\n",
    "- k = jumlah target kelas\n",
    "- pi = proporsi sampel yang termasuk dalam elas i di simpul t\n",
    "\n",
    "2. Mean Squared Error (MSE) (untuk regresi):\n",
    "\n",
    "\n",
    "$$ MSE(t) = \\frac {1}{n_t} \\sum {i∈D_t} (y_i - \\bar{y}_t)^2 $$ -->\n",
    "\n",
    "penjelasan:\n",
    "- MSE(t) = kesalahan kuadrat rata-rata di simpul t\n",
    "- nt = jumlah sampel di simpul t\n",
    "- Dt = set data pelatihan di simpul t\n",
    "- yi = nilai target untuk sampel ke-i\n",
    "- yt = rata-rata nilai target di simpul t"
   ]
  },
  {
   "cell_type": "code",
   "execution_count": 29,
   "metadata": {},
   "outputs": [
    {
     "name": "stdout",
     "output_type": "stream",
     "text": [
      "Parameter terbaik: {'max_depth': 10, 'min_samples_leaf': 2, 'min_samples_split': 5, 'n_estimators': 10}\n",
      "Akurasi model terbaik: 0.6666666666666666\n"
     ]
    }
   ],
   "source": [
    "from sklearn.ensemble import RandomForestClassifier\n",
    "from sklearn.model_selection import GridSearchCV\n",
    "\n",
    "# Definisi model random forest \n",
    "rf = RandomForestClassifier()\n",
    "\n",
    "# Definisi grid parameter yang akan diuji\n",
    "param_grid = {\n",
    "    'n_estimators': [10, 50, 100, 200],  \n",
    "    'max_depth': [None, 10, 20, 30],     \n",
    "    'min_samples_split': [2, 5, 10],     \n",
    "    'min_samples_leaf': [1, 2, 4],       \n",
    "}\n",
    "\n",
    "# Inisialisasi GridSearchCV\n",
    "grid_search = GridSearchCV(estimator=rf, param_grid=param_grid, cv=5, n_jobs=-1)\n",
    "\n",
    "# Latih model dengan data latih dan mencari parameter terbaik\n",
    "grid_search.fit(zscore_training, target_train)\n",
    "\n",
    "# Hasil parameter terbaik\n",
    "best_params = grid_search.best_params_\n",
    "print(\"Parameter terbaik:\", best_params)\n",
    "\n",
    "# Model dengan parameter terbaik\n",
    "best_rf = grid_search.best_estimator_\n",
    "\n",
    "# Evaluasi model terbaik pada data uji\n",
    "accuracy = best_rf.score(zscore_testing, target_test)\n",
    "print(\"Akurasi model terbaik:\", accuracy)"
   ]
  },
  {
   "cell_type": "markdown",
   "metadata": {},
   "source": [
    "### - Simpan Model"
   ]
  },
  {
   "cell_type": "markdown",
   "metadata": {},
   "source": [
    "Model disimpan dalam file dengan format .pkl menggunakan modul pickle. Dikarenakan jika sewaktu-waktu model ini akan digunakan kembali cukup membuka model.pkl saja."
   ]
  },
  {
   "cell_type": "code",
   "execution_count": 30,
   "metadata": {},
   "outputs": [
    {
     "name": "stdout",
     "output_type": "stream",
     "text": [
      "Akurasi model terbaik: 0.6666666666666666\n"
     ]
    }
   ],
   "source": [
    "import pickle\n",
    "\n",
    "# Model dengan parameter terbaik\n",
    "best_rf = grid_search.best_estimator_\n",
    "\n",
    "# Simpan model Decision Tree terbaik ke dalam file pickle\n",
    "with open('model_rf.pkl', 'wb') as file:\n",
    "    pickle.dump(best_rf, file)\n",
    "\n",
    "# Evaluasi model terbaik pada data uji\n",
    "accuracy = best_rf.score(zscore_testing, target_test)\n",
    "print(\"Akurasi model terbaik:\", accuracy)"
   ]
  },
  {
   "cell_type": "markdown",
   "metadata": {},
   "source": [
    "## -- EVALUATION --"
   ]
  },
  {
   "cell_type": "code",
   "execution_count": 31,
   "metadata": {},
   "outputs": [],
   "source": [
    "with open('model_rf.pkl', 'rb') as file:\n",
    "    model_rf = pickle.load(file)\n",
    "\n",
    "model_rf.fit(zscore_training, target_train)\n",
    "y_pred_rf = model_rf.predict(zscore_testing)"
   ]
  },
  {
   "cell_type": "markdown",
   "metadata": {},
   "source": [
    "### - Akurasi"
   ]
  },
  {
   "cell_type": "code",
   "execution_count": 32,
   "metadata": {},
   "outputs": [
    {
     "name": "stdout",
     "output_type": "stream",
     "text": [
      "Akurasi Menggunakan Random Forest :  0.6060606060606061\n"
     ]
    }
   ],
   "source": [
    "from sklearn.metrics import accuracy_score\n",
    "\n",
    "akurasi_rf = accuracy_score(target_test, y_pred_rf)\n",
    "print('Akurasi Menggunakan Random Forest : ', akurasi_rf)"
   ]
  },
  {
   "cell_type": "markdown",
   "metadata": {},
   "source": [
    "### - Presisi dan Recall"
   ]
  },
  {
   "cell_type": "code",
   "execution_count": 33,
   "metadata": {},
   "outputs": [
    {
     "name": "stdout",
     "output_type": "stream",
     "text": [
      "Presisi : 0.6083333333333334\n",
      "Recall : 0.6075367647058824\n"
     ]
    }
   ],
   "source": [
    "from sklearn.metrics import precision_score, recall_score\n",
    "\n",
    "# Hitung presisi\n",
    "precision = precision_score(target_test, y_pred_rf, average='macro')\n",
    "\n",
    "# Hitung recall\n",
    "recall = recall_score(target_test, y_pred_rf, average='macro')\n",
    "\n",
    "print(\"Presisi :\", precision)\n",
    "print(\"Recall :\", recall)"
   ]
  },
  {
   "cell_type": "markdown",
   "metadata": {},
   "source": [
    "### - F-1 Score"
   ]
  },
  {
   "cell_type": "code",
   "execution_count": 34,
   "metadata": {},
   "outputs": [
    {
     "name": "stdout",
     "output_type": "stream",
     "text": [
      "F1 - Score : 0.6083333333333334\n"
     ]
    }
   ],
   "source": [
    "from sklearn.metrics import f1_score\n",
    "\n",
    "# Hitung f1-score\n",
    "f1_score = f1_score(target_test, y_pred_rf, average='macro')\n",
    "\n",
    "print(\"F1 - Score :\", precision)"
   ]
  },
  {
   "cell_type": "markdown",
   "metadata": {},
   "source": [
    "### - Confussion Matrix"
   ]
  },
  {
   "cell_type": "markdown",
   "metadata": {},
   "source": [
    "Confusion Matrix (matriks kebingungan) adalah tabel yang digunakan untuk mengevaluasi kinerja suatu model klasifikasi pada data uji, di mana kita tahu nilai sebenarnya dari data tersebut.\n",
    "\n",
    "Confussion matrix terdiri dari empat istilah utama:\n",
    "\n",
    "1. True Positive (TP): Data yang benar-benar positif dan diprediksi positif oleh model.\n",
    "\n",
    "2. True Negative (TN): Data yang benar-benar negatif dan diprediksi negatif oleh model.\n",
    "\n",
    "3. False Positive (FP): Data yang benar-benar negatif tetapi diprediksi positif oleh model.\n",
    "\n",
    "4. False Negative (FN): Data yang benar-benar positif tetapi diprediksi negatif oleh model."
   ]
  },
  {
   "cell_type": "code",
   "execution_count": 36,
   "metadata": {},
   "outputs": [
    {
     "data": {
      "image/png": "[encoded data removed]",
      "text/plain": [
       "<Figure size 600x400 with 2 Axes>"
      ]
     },
     "metadata": {},
     "output_type": "display_data"
    }
   ],
   "source": [
    "import matplotlib.pyplot as plt\n",
    "from sklearn.metrics import confusion_matrix\n",
    "import seaborn as sns\n",
    "\n",
    "conf_matrix = confusion_matrix(target_test, y_pred_rf)\n",
    "\n",
    "plt.figure(figsize=(6, 4))\n",
    "sns.heatmap(conf_matrix, annot=True, cmap='Purples', fmt='g')\n",
    "plt.xlabel('Predicted labels')\n",
    "plt.ylabel('True labels')\n",
    "plt.title('Confusion Matrix')\n",
    "plt.show()"
   ]
  },
  {
   "cell_type": "markdown",
   "metadata": {},
   "source": [
    "Dari natrik di atas, diperoleh informasi sebagai berikut:\n",
    "- Pasien non liver diprediksi benar ada 21 data\n",
    "- Pasien liver diprediksi benar ada 19 data"
   ]
  }
 ],
 "metadata": {
  "kernelspec": {
   "display_name": "Python 3",
   "language": "python",
   "name": "python3"
  },
  "language_info": {
   "codemirror_mode": {
    "name": "ipython",
    "version": 3
   },
   "file_extension": ".py",
   "mimetype": "text/x-python",
   "name": "python",
   "nbconvert_exporter": "python",
   "pygments_lexer": "ipython3",
   "version": "3.11.2"
  }
 },
 "nbformat": 4,
 "nbformat_minor": 2
}
